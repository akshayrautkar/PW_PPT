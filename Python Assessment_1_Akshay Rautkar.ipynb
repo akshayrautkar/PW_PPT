{
 "cells": [
  {
   "cell_type": "markdown",
   "id": "15a00209",
   "metadata": {},
   "source": [
    "#1. Write a Python program to reverse a string without using any built-in string reversal functions."
   ]
  },
  {
   "cell_type": "code",
   "execution_count": 2,
   "id": "8a9750b3",
   "metadata": {},
   "outputs": [],
   "source": [
    "string=\"hello world\""
   ]
  },
  {
   "cell_type": "code",
   "execution_count": 5,
   "id": "4065fe01",
   "metadata": {},
   "outputs": [
    {
     "data": {
      "text/plain": [
       "'dlrow olleh'"
      ]
     },
     "execution_count": 5,
     "metadata": {},
     "output_type": "execute_result"
    }
   ],
   "source": [
    "reverse=string[::-1]\n",
    "reverse"
   ]
  },
  {
   "cell_type": "markdown",
   "id": "6a6edf07",
   "metadata": {},
   "source": [
    "#2. Implement a function to check if a given string is a palindrome."
   ]
  },
  {
   "cell_type": "code",
   "execution_count": 14,
   "id": "f9fb4ec1",
   "metadata": {},
   "outputs": [],
   "source": [
    "def palindrome(srting1):\n",
    "    lower_string=string1.lower()\n",
    "    return lower_string==lower_string[::-1]"
   ]
  },
  {
   "cell_type": "code",
   "execution_count": 18,
   "id": "a345c6ea",
   "metadata": {},
   "outputs": [
    {
     "name": "stdout",
     "output_type": "stream",
     "text": [
      "True\n"
     ]
    }
   ],
   "source": [
    "print(palindrome(\"Madam\"))"
   ]
  },
  {
   "cell_type": "markdown",
   "id": "10ac787b",
   "metadata": {},
   "source": [
    "#3. Write a program to find the largest element in a given list."
   ]
  },
  {
   "cell_type": "code",
   "execution_count": 21,
   "id": "0f75bc20",
   "metadata": {},
   "outputs": [
    {
     "data": {
      "text/plain": [
       "5"
      ]
     },
     "execution_count": 21,
     "metadata": {},
     "output_type": "execute_result"
    }
   ],
   "source": [
    "list1=[1,2,3,4,5]\n",
    "max(list1)"
   ]
  },
  {
   "cell_type": "markdown",
   "id": "bdd9e21f",
   "metadata": {},
   "source": [
    "#4. Implement a function to count the occurrence of each element in a list."
   ]
  },
  {
   "cell_type": "code",
   "execution_count": 27,
   "id": "1cdf4805",
   "metadata": {},
   "outputs": [],
   "source": [
    "list2=[1,2,3,4,5,6,6,7,7,7,4,]\n"
   ]
  },
  {
   "cell_type": "code",
   "execution_count": 33,
   "id": "c9544606",
   "metadata": {},
   "outputs": [],
   "source": [
    "from collections import Counter\n",
    "def count_occur(list2):\n",
    "    occur=Counter(list2)\n",
    "    return occur\n"
   ]
  },
  {
   "cell_type": "code",
   "execution_count": 34,
   "id": "6471326b",
   "metadata": {},
   "outputs": [
    {
     "data": {
      "text/plain": [
       "Counter({1: 1, 2: 1, 3: 1, 4: 2, 5: 1, 6: 2, 7: 3})"
      ]
     },
     "execution_count": 34,
     "metadata": {},
     "output_type": "execute_result"
    }
   ],
   "source": [
    "count_occur(list2)"
   ]
  },
  {
   "cell_type": "markdown",
   "id": "d6b60448",
   "metadata": {},
   "source": [
    "#5 Write a Python program to find the second largest number in a list."
   ]
  },
  {
   "cell_type": "code",
   "execution_count": 47,
   "id": "dc8e46b9",
   "metadata": {},
   "outputs": [],
   "source": [
    "import numpy as np\n",
    "import pandas as pd\n",
    "list3=[1,2,3,4,5,6,4,5,7,8,0]\n",
    "sorted_list=np.sort(list3)"
   ]
  },
  {
   "cell_type": "code",
   "execution_count": 53,
   "id": "ff3e94f2",
   "metadata": {},
   "outputs": [
    {
     "data": {
      "text/plain": [
       "7"
      ]
     },
     "execution_count": 53,
     "metadata": {},
     "output_type": "execute_result"
    }
   ],
   "source": [
    "sorted_list[-2]"
   ]
  },
  {
   "cell_type": "markdown",
   "id": "dbaecf1a",
   "metadata": {},
   "source": [
    "#6. Implement a function to remove duplicate elements from a list."
   ]
  },
  {
   "cell_type": "code",
   "execution_count": 55,
   "id": "62a38588",
   "metadata": {},
   "outputs": [],
   "source": [
    "list4=[1,2,3,4,4,5,5,6,6,7,8]"
   ]
  },
  {
   "cell_type": "code",
   "execution_count": 58,
   "id": "7320db61",
   "metadata": {},
   "outputs": [
    {
     "name": "stdout",
     "output_type": "stream",
     "text": [
      "[1 2 3 4 5 6 7 8]\n"
     ]
    }
   ],
   "source": [
    "unique=np.unique(list4)\n",
    "print(unique)"
   ]
  },
  {
   "cell_type": "markdown",
   "id": "976332a2",
   "metadata": {},
   "source": [
    "#7. Write a program to calculate the factorial of a given number.\n"
   ]
  },
  {
   "cell_type": "code",
   "execution_count": 68,
   "id": "3bd9e35d",
   "metadata": {},
   "outputs": [],
   "source": [
    "def factorial(n):\n",
    "    if n<0:\n",
    "        return none\n",
    "    elif n==0:\n",
    "        return 1\n",
    "    else:\n",
    "        return n* factorial(n-1)"
   ]
  },
  {
   "cell_type": "code",
   "execution_count": 70,
   "id": "ecdec3bc",
   "metadata": {},
   "outputs": [
    {
     "name": "stdout",
     "output_type": "stream",
     "text": [
      "factorial of 5 is 120\n"
     ]
    }
   ],
   "source": [
    "num=5\n",
    "print(\"factorial of\",num,\"is\",factorial(num))"
   ]
  },
  {
   "cell_type": "markdown",
   "id": "5e31b582",
   "metadata": {},
   "source": [
    "#8. Implement a function to check if a given number is prime"
   ]
  },
  {
   "cell_type": "code",
   "execution_count": 95,
   "id": "98dfa782",
   "metadata": {},
   "outputs": [
    {
     "name": "stdout",
     "output_type": "stream",
     "text": [
      "enter number 23\n",
      "number is prime number\n"
     ]
    }
   ],
   "source": [
    "num=int(input(\"enter number \"))\n",
    "flag=False\n",
    "\n",
    "if num==1:\n",
    "    print(\"number is not prime number\")\n",
    "elif num<=0:\n",
    "    print(\"number is not prime number\")\n",
    "elif num>1:\n",
    "    for i in range (2,num):\n",
    "          if num%i==0:\n",
    "                flag=True\n",
    "                break\n",
    "    if flag:\n",
    "        print('number is not prime number')\n",
    "    else:\n",
    "        print(\"number is prime number\")\n",
    "  "
   ]
  },
  {
   "cell_type": "markdown",
   "id": "049c67be",
   "metadata": {},
   "source": [
    "#9. Write a Python program to sort a list of integers in ascending order.\n"
   ]
  },
  {
   "cell_type": "code",
   "execution_count": 98,
   "id": "bbe0de1a",
   "metadata": {},
   "outputs": [],
   "source": [
    "list5=[4,3,2,3,2,1,6,7,5,4,6,8,65,98]"
   ]
  },
  {
   "cell_type": "code",
   "execution_count": 104,
   "id": "f0bd89de",
   "metadata": {},
   "outputs": [
    {
     "name": "stdout",
     "output_type": "stream",
     "text": [
      "[1, 2, 2, 3, 3, 4, 4, 5, 6, 6, 7, 8, 65, 98]\n"
     ]
    }
   ],
   "source": [
    "sort_lst=np.sort(list5)\n",
    "print (list(sort_lst))"
   ]
  },
  {
   "cell_type": "markdown",
   "id": "382edb3d",
   "metadata": {},
   "source": [
    " 10. Implement a function to find the sum of all numbers in a list."
   ]
  },
  {
   "cell_type": "code",
   "execution_count": 106,
   "id": "31820a1d",
   "metadata": {},
   "outputs": [],
   "source": [
    "list6=[4,3,2,3,2,1,6,7,5,4,6,8,65,98]"
   ]
  },
  {
   "cell_type": "code",
   "execution_count": 108,
   "id": "e36d9fbc",
   "metadata": {},
   "outputs": [
    {
     "data": {
      "text/plain": [
       "214"
      ]
     },
     "execution_count": 108,
     "metadata": {},
     "output_type": "execute_result"
    }
   ],
   "source": [
    "np.sum(list6)"
   ]
  },
  {
   "cell_type": "markdown",
   "id": "a304e9f7",
   "metadata": {},
   "source": [
    "#11. Write a program to find the common elements between two lists."
   ]
  },
  {
   "cell_type": "code",
   "execution_count": 1,
   "id": "6c8f305a",
   "metadata": {},
   "outputs": [],
   "source": [
    "list7 = [1, 2, 3, 4, 5]\n",
    "list8 = [4, 5, 6, 7, 8]\n",
    "common_elements = list(set(list7).intersection(list8))"
   ]
  },
  {
   "cell_type": "code",
   "execution_count": 2,
   "id": "23c46214",
   "metadata": {},
   "outputs": [
    {
     "data": {
      "text/plain": [
       "[4, 5]"
      ]
     },
     "execution_count": 2,
     "metadata": {},
     "output_type": "execute_result"
    }
   ],
   "source": [
    "common_elements"
   ]
  },
  {
   "cell_type": "code",
   "execution_count": null,
   "id": "2ea22215",
   "metadata": {},
   "outputs": [],
   "source": []
  },
  {
   "cell_type": "markdown",
   "id": "46778e10",
   "metadata": {},
   "source": [
    "12. Implement a function to check if a given string is an anagram of another string."
   ]
  },
  {
   "cell_type": "code",
   "execution_count": 18,
   "id": "63f52141",
   "metadata": {},
   "outputs": [],
   "source": [
    "def is_anagram(str1, str2):\n",
    "    # Convert both strings to lowercase and remove whitespace\n",
    "    str1 = str1.lower().replace(\" \", \"\")\n",
    "    str2 = str2.lower().replace(\" \", \"\")\n",
    "\n",
    "    # Sort the characters in both strings\n",
    "    sorted_str1 = sorted(str1)\n",
    "    sorted_str2 = sorted(str2)\n",
    "\n",
    "    # Compare the sorted strings\n",
    "    return sorted_str1 == sorted_str2"
   ]
  },
  {
   "cell_type": "code",
   "execution_count": 19,
   "id": "abb75141",
   "metadata": {},
   "outputs": [
    {
     "data": {
      "text/plain": [
       "False"
      ]
     },
     "execution_count": 19,
     "metadata": {},
     "output_type": "execute_result"
    }
   ],
   "source": [
    "is_anagram(\"hello world\",\" WORLD\")"
   ]
  },
  {
   "cell_type": "code",
   "execution_count": 14,
   "id": "e618d0e4",
   "metadata": {},
   "outputs": [],
   "source": [
    "def is_anagram(str1, str2):\n",
    "    # Convert both strings to lowercase and remove whitespace\n",
    "    str1 = str1.lower().replace(\" \", \"\")\n",
    "    str2 = str2.lower().replace(\" \", \"\")\n",
    "\n",
    "    # Check if the lengths of the strings are different\n",
    "    if len(str1) != len(str2):\n",
    "        return False\n",
    "\n",
    "    # Create dictionaries to store character counts\n",
    "    char_count1 = {}\n",
    "    char_count2 = {}\n",
    "\n",
    "    # Count the occurrences of each character in the first string\n",
    "    for char in str1:\n",
    "        char_count1[char] = char_count1.get(char, 0) + 1\n",
    "\n",
    "    # Count the occurrences of each character in the second string\n",
    "    for char in str2:\n",
    "        char_count2[char] = char_count2.get(char, 0) + 1\n",
    "\n",
    "    # Check if the dictionaries are equal\n",
    "    return char_count1 == char_count2"
   ]
  },
  {
   "cell_type": "markdown",
   "id": "de95f990",
   "metadata": {},
   "source": [
    "13. Write a Python program to generate all permutations of a given string."
   ]
  },
  {
   "cell_type": "code",
   "execution_count": 21,
   "id": "60423c00",
   "metadata": {},
   "outputs": [
    {
     "name": "stdout",
     "output_type": "stream",
     "text": [
      "Enter a string: abc\n",
      "Permutations:\n",
      "abc\n",
      "acb\n",
      "bac\n",
      "bca\n",
      "cab\n",
      "cba\n"
     ]
    }
   ],
   "source": [
    "\n",
    "import itertools\n",
    "\n",
    "def generate_permutations(string):\n",
    "    # Use itertools.permutations to generate all permutations\n",
    "    perms = itertools.permutations(string)\n",
    "\n",
    "    # Convert the permutations to a list of strings\n",
    "    perms = [''.join(perm) for perm in perms]\n",
    "\n",
    "    return perms\n",
    "\n",
    "# Test the function\n",
    "input_string = input(\"Enter a string: \")\n",
    "permutations = generate_permutations(input_string)\n",
    "\n",
    "print(\"Permutations:\")\n",
    "for perm in permutations:\n",
    "    print(perm)"
   ]
  },
  {
   "cell_type": "code",
   "execution_count": null,
   "id": "76b9f01e",
   "metadata": {},
   "outputs": [],
   "source": []
  },
  {
   "cell_type": "markdown",
   "id": "9aab1bfb",
   "metadata": {},
   "source": [
    "14. Implement a function to calculate the Fibonacci sequence up to a given number of terms."
   ]
  },
  {
   "cell_type": "code",
   "execution_count": 22,
   "id": "0f345e71",
   "metadata": {},
   "outputs": [
    {
     "name": "stdout",
     "output_type": "stream",
     "text": [
      "Enter the number of terms: 12\n",
      "Fibonacci Sequence:\n",
      "[0, 1, 1, 2, 3, 5, 8, 13, 21, 34, 55, 89]\n"
     ]
    }
   ],
   "source": [
    "def fibonacci_sequence(n):\n",
    "    sequence = []\n",
    "\n",
    "    if n == 1:\n",
    "        sequence = [0]\n",
    "    elif n == 2:\n",
    "        sequence = [0, 1]\n",
    "    else:\n",
    "        sequence = [0, 1]\n",
    "        for i in range(2, n):\n",
    "            sequence.append(sequence[i - 1] + sequence[i - 2])\n",
    "\n",
    "    return sequence\n",
    "\n",
    "# Test the function\n",
    "num_terms = int(input(\"Enter the number of terms: \"))\n",
    "fib_sequence = fibonacci_sequence(num_terms)\n",
    "\n",
    "print(\"Fibonacci Sequence:\")\n",
    "print(fib_sequence)\n"
   ]
  },
  {
   "cell_type": "code",
   "execution_count": null,
   "id": "07a1e4c8",
   "metadata": {},
   "outputs": [],
   "source": []
  },
  {
   "cell_type": "markdown",
   "id": "ef5f2634",
   "metadata": {},
   "source": [
    "15. Write a program to find the median of a list of numbers."
   ]
  },
  {
   "cell_type": "code",
   "execution_count": 23,
   "id": "555a6f2d",
   "metadata": {},
   "outputs": [],
   "source": [
    "list=[1,2,3,4,5,6,7,8,9]"
   ]
  },
  {
   "cell_type": "code",
   "execution_count": 26,
   "id": "09c21f40",
   "metadata": {},
   "outputs": [
    {
     "data": {
      "text/plain": [
       "5.0"
      ]
     },
     "execution_count": 26,
     "metadata": {},
     "output_type": "execute_result"
    }
   ],
   "source": [
    "import numpy as np\n",
    "np.median(list)"
   ]
  },
  {
   "cell_type": "code",
   "execution_count": null,
   "id": "c4345a1c",
   "metadata": {},
   "outputs": [],
   "source": []
  },
  {
   "cell_type": "code",
   "execution_count": null,
   "id": "fae56039",
   "metadata": {},
   "outputs": [],
   "source": []
  },
  {
   "cell_type": "markdown",
   "id": "14936a55",
   "metadata": {},
   "source": [
    "16. Implement a function to check if a given list is sorted in non-decreasing order.\n"
   ]
  },
  {
   "cell_type": "code",
   "execution_count": 51,
   "id": "296a7191",
   "metadata": {},
   "outputs": [
    {
     "name": "stdout",
     "output_type": "stream",
     "text": [
      "Enter a list of numbers separated by spaces: 1 2 3 4 5\n",
      "The list is sorted in non-decreasing order.\n"
     ]
    }
   ],
   "source": [
    "def is_sorted(lst):\n",
    "    n = len(lst)\n",
    "    if n <= 1:\n",
    "        return True\n",
    "\n",
    "    for i in range(1, n):\n",
    "        if lst[i] < lst[i - 1]:\n",
    "            return False\n",
    "\n",
    "    return True\n",
    "\n",
    "# Test the function\n",
    "input_list = input(\"Enter a list of numbers separated by spaces: \")\n",
    "lst = tuple(map(int, input_list.split()))\n",
    "sorted_check = is_sorted(lst)\n",
    "\n",
    "if sorted_check:\n",
    "    print(\"The list is sorted in non-decreasing order.\")\n",
    "else:\n",
    "    print(\"The list is not sorted in non-decreasing order.\")\n"
   ]
  },
  {
   "cell_type": "code",
   "execution_count": null,
   "id": "b5216bdf",
   "metadata": {},
   "outputs": [],
   "source": []
  },
  {
   "cell_type": "code",
   "execution_count": null,
   "id": "b8966b78",
   "metadata": {},
   "outputs": [],
   "source": []
  },
  {
   "cell_type": "markdown",
   "id": "53104c0c",
   "metadata": {},
   "source": [
    "17. Write a Python program to find the intersection of two lists."
   ]
  },
  {
   "cell_type": "code",
   "execution_count": null,
   "id": "d25d4e0a",
   "metadata": {},
   "outputs": [],
   "source": [
    "16. Implement a function to check if a given list is sorted in non-decreasing order."
   ]
  },
  {
   "cell_type": "code",
   "execution_count": 29,
   "id": "b82027a6",
   "metadata": {},
   "outputs": [
    {
     "name": "stdout",
     "output_type": "stream",
     "text": [
      "Enter a list of numbers separated by spaces: 1 2 3 4 5\n"
     ]
    },
    {
     "ename": "TypeError",
     "evalue": "'list' object is not callable",
     "output_type": "error",
     "traceback": [
      "\u001b[1;31m---------------------------------------------------------------------------\u001b[0m",
      "\u001b[1;31mTypeError\u001b[0m                                 Traceback (most recent call last)",
      "\u001b[1;32m~\\AppData\\Local\\Temp\\ipykernel_1980\\951418155.py\u001b[0m in \u001b[0;36m<module>\u001b[1;34m\u001b[0m\n\u001b[0;32m     12\u001b[0m \u001b[1;31m# Test the function\u001b[0m\u001b[1;33m\u001b[0m\u001b[1;33m\u001b[0m\u001b[0m\n\u001b[0;32m     13\u001b[0m \u001b[0minput_list\u001b[0m \u001b[1;33m=\u001b[0m \u001b[0minput\u001b[0m\u001b[1;33m(\u001b[0m\u001b[1;34m\"Enter a list of numbers separated by spaces: \"\u001b[0m\u001b[1;33m)\u001b[0m\u001b[1;33m\u001b[0m\u001b[1;33m\u001b[0m\u001b[0m\n\u001b[1;32m---> 14\u001b[1;33m \u001b[0mlst\u001b[0m \u001b[1;33m=\u001b[0m \u001b[0mlist\u001b[0m\u001b[1;33m(\u001b[0m\u001b[0mmap\u001b[0m\u001b[1;33m(\u001b[0m\u001b[0mint\u001b[0m\u001b[1;33m,\u001b[0m \u001b[0minput_list\u001b[0m\u001b[1;33m.\u001b[0m\u001b[0msplit\u001b[0m\u001b[1;33m(\u001b[0m\u001b[1;33m)\u001b[0m\u001b[1;33m)\u001b[0m\u001b[1;33m)\u001b[0m\u001b[1;33m\u001b[0m\u001b[1;33m\u001b[0m\u001b[0m\n\u001b[0m\u001b[0;32m     15\u001b[0m \u001b[0msorted_check\u001b[0m \u001b[1;33m=\u001b[0m \u001b[0mis_sorted\u001b[0m\u001b[1;33m(\u001b[0m\u001b[0mlst\u001b[0m\u001b[1;33m)\u001b[0m\u001b[1;33m\u001b[0m\u001b[1;33m\u001b[0m\u001b[0m\n\u001b[0;32m     16\u001b[0m \u001b[1;33m\u001b[0m\u001b[0m\n",
      "\u001b[1;31mTypeError\u001b[0m: 'list' object is not callable"
     ]
    }
   ],
   "source": [
    "\n"
   ]
  },
  {
   "cell_type": "code",
   "execution_count": 43,
   "id": "05c982eb",
   "metadata": {},
   "outputs": [
    {
     "name": "stdout",
     "output_type": "stream",
     "text": [
      "Enter elements of the first list separated by spaces: 1 2 3 4\n",
      "Enter elements of the second list separated by spaces: 1 2 3 4 5\n",
      "Intersection of the two lists:\n",
      "{'3', '4', '1', '2'}\n"
     ]
    }
   ],
   "source": [
    "def find_intersection(list1, list2):\n",
    "    set1 = set(list1)\n",
    "    set2 = set(list2)\n",
    "\n",
    "    intersection = set1.intersection(set2)\n",
    "\n",
    "    return intersection\n",
    "\n",
    "# Test the function\n",
    "input_list1 = input(\"Enter elements of the first list separated by spaces: \")\n",
    "lst1 = input_list1.split()\n",
    "\n",
    "input_list2 = input(\"Enter elements of the second list separated by spaces: \")\n",
    "lst2 = input_list2.split()\n",
    "\n",
    "intersection = find_intersection(lst1, lst2)\n",
    "\n",
    "print(\"Intersection of the two lists:\")\n",
    "print(intersection)"
   ]
  },
  {
   "cell_type": "markdown",
   "id": "3d17a9dc",
   "metadata": {},
   "source": [
    "18. Implement a function to find the maximum subarray sum in a given list."
   ]
  },
  {
   "cell_type": "code",
   "execution_count": 40,
   "id": "aaf8de14",
   "metadata": {},
   "outputs": [],
   "source": []
  },
  {
   "cell_type": "code",
   "execution_count": 53,
   "id": "90335961",
   "metadata": {},
   "outputs": [
    {
     "name": "stdout",
     "output_type": "stream",
     "text": [
      "Enter elements of the list separated by spaces: 2 3 4 5 6 \n",
      "Maximum subarray sum: 20\n"
     ]
    }
   ],
   "source": [
    "def max_subarray_sum(arr):\n",
    "    if not arr:\n",
    "        return 0\n",
    "\n",
    "    current_sum = max_sum = arr[0]\n",
    "\n",
    "    for num in arr[1:]:\n",
    "        current_sum = max(num, current_sum + num)\n",
    "        max_sum = max(max_sum, current_sum)\n",
    "\n",
    "    return max_sum\n",
    "\n",
    "# Test the function\n",
    "input_list = input(\"Enter elements of the list separated by spaces: \")\n",
    "arr = tuple(map(int, input_list.split()))\n",
    "\n",
    "maximum_sum = max_subarray_sum(arr)\n",
    "\n",
    "print(\"Maximum subarray sum:\", maximum_sum)\n"
   ]
  },
  {
   "cell_type": "code",
   "execution_count": null,
   "id": "bdb4ba2c",
   "metadata": {},
   "outputs": [],
   "source": []
  },
  {
   "cell_type": "code",
   "execution_count": null,
   "id": "4a638869",
   "metadata": {},
   "outputs": [],
   "source": []
  },
  {
   "cell_type": "markdown",
   "id": "e4dcd0ee",
   "metadata": {},
   "source": [
    "19. Write a program to remove all vowels from a given string."
   ]
  },
  {
   "cell_type": "code",
   "execution_count": 54,
   "id": "2392e516",
   "metadata": {},
   "outputs": [
    {
     "name": "stdout",
     "output_type": "stream",
     "text": [
      "Enter a string: i love you\n",
      "String without vowels:  lv y\n"
     ]
    }
   ],
   "source": [
    "def remove_vowels(string):\n",
    "    vowels = \"aeiouAEIOU\"\n",
    "    result = \"\"\n",
    "\n",
    "    for char in string:\n",
    "        if char not in vowels:\n",
    "            result += char\n",
    "\n",
    "    return result\n",
    "\n",
    "# Test the function\n",
    "input_string = input(\"Enter a string: \")\n",
    "string_without_vowels = remove_vowels(input_string)\n",
    "\n",
    "print(\"String without vowels:\", string_without_vowels)\n"
   ]
  },
  {
   "cell_type": "code",
   "execution_count": null,
   "id": "4435e035",
   "metadata": {},
   "outputs": [],
   "source": []
  },
  {
   "cell_type": "code",
   "execution_count": null,
   "id": "145572f4",
   "metadata": {},
   "outputs": [],
   "source": []
  },
  {
   "cell_type": "markdown",
   "id": "ffb2dbdf",
   "metadata": {},
   "source": [
    "20. Implement a function to reverse the order of words in a given sentence."
   ]
  },
  {
   "cell_type": "code",
   "execution_count": 60,
   "id": "ba516546",
   "metadata": {},
   "outputs": [
    {
     "name": "stdout",
     "output_type": "stream",
     "text": [
      "Enter a sentence: i love you\n",
      "Reversed sentence: you love i\n"
     ]
    }
   ],
   "source": [
    "def reverse_sentence(sentence):\n",
    "    words = sentence.split()\n",
    "    reversed_sentence = \" \".join(reversed(words))\n",
    "    return reversed_sentence\n",
    "\n",
    "# Test the function\n",
    "input_sentence = input(\"Enter a sentence: \")\n",
    "reversed_sentence = reverse_sentence(input_sentence)\n",
    "\n",
    "print(\"Reversed sentence:\", reversed_sentence)"
   ]
  },
  {
   "cell_type": "code",
   "execution_count": null,
   "id": "a4a8f91a",
   "metadata": {},
   "outputs": [],
   "source": []
  },
  {
   "cell_type": "code",
   "execution_count": null,
   "id": "8a8d8f00",
   "metadata": {},
   "outputs": [],
   "source": []
  },
  {
   "cell_type": "markdown",
   "id": "c15fcb62",
   "metadata": {},
   "source": [
    "21. Write a Python program to check if two strings are anagrams of each other."
   ]
  },
  {
   "cell_type": "code",
   "execution_count": 58,
   "id": "4e71ef39",
   "metadata": {},
   "outputs": [],
   "source": [
    "def is_anagram(str1, str2):\n",
    "    # Convert both strings to lowercase and remove whitespace\n",
    "    str1 = str1.lower().replace(\" \", \"\")\n",
    "    str2 = str2.lower().replace(\" \", \"\")\n",
    "\n",
    "    # Sort the characters in both strings\n",
    "    sorted_str1 = sorted(str1)\n",
    "    sorted_str2 = sorted(str2)\n",
    "\n",
    "    # Compare the sorted strings\n",
    "    return sorted_str1 == sorted_str2"
   ]
  },
  {
   "cell_type": "code",
   "execution_count": 63,
   "id": "49f9acda",
   "metadata": {},
   "outputs": [
    {
     "name": "stdout",
     "output_type": "stream",
     "text": [
      "Enter a sentence: akshay\n",
      "Enter a sentence: akshay\n",
      "anagram: True\n"
     ]
    }
   ],
   "source": [
    "# Test the function\n",
    "str1 = input(\"Enter a sentence: \")\n",
    "str2= input(\"Enter a sentence: \")\n",
    "ana=is_anagram(str1, str2)\n",
    "print(\"anagram:\", ana)"
   ]
  },
  {
   "cell_type": "code",
   "execution_count": null,
   "id": "b991658b",
   "metadata": {},
   "outputs": [],
   "source": []
  },
  {
   "cell_type": "markdown",
   "id": "8dcd1561",
   "metadata": {},
   "source": [
    "22. Implement a function to find the first non-repeating character in a string."
   ]
  },
  {
   "cell_type": "code",
   "execution_count": 64,
   "id": "25c3430d",
   "metadata": {},
   "outputs": [
    {
     "name": "stdout",
     "output_type": "stream",
     "text": [
      "Enter a string: akshay rautkar\n",
      "The first non-repeating character is: s\n"
     ]
    }
   ],
   "source": [
    "def find_first_non_repeating_char(string):\n",
    "    char_count = {}\n",
    "\n",
    "    # Count the occurrences of each character\n",
    "    for char in string:\n",
    "        char_count[char] = char_count.get(char, 0) + 1\n",
    "\n",
    "    # Find the first non-repeating character\n",
    "    for char in string:\n",
    "        if char_count[char] == 1:\n",
    "            return char\n",
    "\n",
    "    # If no non-repeating character is found, return None\n",
    "    return None\n",
    "\n",
    "# Test the function\n",
    "input_string = input(\"Enter a string: \")\n",
    "first_non_repeating_char = find_first_non_repeating_char(input_string)\n",
    "\n",
    "if first_non_repeating_char:\n",
    "    print(\"The first non-repeating character is:\", first_non_repeating_char)\n",
    "else:\n",
    "    print(\"There is no non-repeating character in the string.\")\n"
   ]
  },
  {
   "cell_type": "code",
   "execution_count": null,
   "id": "5f0fa035",
   "metadata": {},
   "outputs": [],
   "source": []
  },
  {
   "cell_type": "code",
   "execution_count": null,
   "id": "5663d64b",
   "metadata": {},
   "outputs": [],
   "source": []
  },
  {
   "cell_type": "code",
   "execution_count": null,
   "id": "cd0a44d5",
   "metadata": {},
   "outputs": [],
   "source": [
    "23. Write a program to find the prime factors of a given number."
   ]
  },
  {
   "cell_type": "code",
   "execution_count": 65,
   "id": "925b7fdc",
   "metadata": {},
   "outputs": [
    {
     "name": "stdout",
     "output_type": "stream",
     "text": [
      "Enter a number: 34\n",
      "Prime factors of 34 are: [2, 17]\n"
     ]
    }
   ],
   "source": [
    "def find_prime_factors(n):\n",
    "    prime_factors = []\n",
    "\n",
    "    # Check for 2 as a prime factor repeatedly\n",
    "    while n % 2 == 0:\n",
    "        prime_factors.append(2)\n",
    "        n //= 2\n",
    "\n",
    "    # Check for odd prime factors\n",
    "    i = 3\n",
    "    while i * i <= n:\n",
    "        while n % i == 0:\n",
    "            prime_factors.append(i)\n",
    "            n //= i\n",
    "        i += 2\n",
    "\n",
    "    # If the remaining number is prime\n",
    "    if n > 2:\n",
    "        prime_factors.append(n)\n",
    "\n",
    "    return prime_factors\n",
    "\n",
    "# Test the function\n",
    "input_number = int(input(\"Enter a number: \"))\n",
    "factors = find_prime_factors(input_number)\n",
    "\n",
    "print(\"Prime factors of\", input_number, \"are:\", factors)\n"
   ]
  },
  {
   "cell_type": "code",
   "execution_count": null,
   "id": "d22b39a5",
   "metadata": {},
   "outputs": [],
   "source": []
  },
  {
   "cell_type": "code",
   "execution_count": null,
   "id": "11da3504",
   "metadata": {},
   "outputs": [],
   "source": []
  },
  {
   "cell_type": "markdown",
   "id": "90a65bfc",
   "metadata": {},
   "source": [
    "24. Implement a function to check if a given number is a power of two."
   ]
  },
  {
   "cell_type": "code",
   "execution_count": 68,
   "id": "801b74f4",
   "metadata": {},
   "outputs": [
    {
     "name": "stdout",
     "output_type": "stream",
     "text": [
      "Enter a number: 32\n",
      "32 is a power of two.\n"
     ]
    }
   ],
   "source": [
    "def is_power_of_two(n):\n",
    "    if n <= 0:\n",
    "        return False\n",
    "\n",
    "    return (n & (n - 1)) == 0\n",
    "\n",
    "# Test the function\n",
    "input_number = int(input(\"Enter a number: \"))\n",
    "result = is_power_of_two(input_number)\n",
    "\n",
    "if result:\n",
    "    print(input_number, \"is a power of two.\")\n",
    "else:\n",
    "    print(input_number, \"is not a power of two.\")\n"
   ]
  },
  {
   "cell_type": "code",
   "execution_count": null,
   "id": "613a4345",
   "metadata": {},
   "outputs": [],
   "source": []
  },
  {
   "cell_type": "code",
   "execution_count": null,
   "id": "a217988b",
   "metadata": {},
   "outputs": [],
   "source": []
  },
  {
   "cell_type": "markdown",
   "id": "7ce67f75",
   "metadata": {},
   "source": [
    "25. Write a Python program to merge two sorted lists into a single sorted list."
   ]
  },
  {
   "cell_type": "code",
   "execution_count": 71,
   "id": "17fae31d",
   "metadata": {},
   "outputs": [
    {
     "name": "stdout",
     "output_type": "stream",
     "text": [
      "Enter elements of the first sorted list separated by spaces: 2 3 4 5 6 7 8 8\n",
      "Enter elements of the second sorted list separated by spaces: 4 5 6 7 8 9 7\n",
      "Merged sorted list:\n",
      "[2, 3, 4, 4, 5, 5, 6, 6, 7, 7, 8, 8, 8, 9, 7]\n"
     ]
    }
   ],
   "source": [
    "def merge_sorted_lists(list1, list2):\n",
    "    merged_list = []\n",
    "    i = j = 0\n",
    "\n",
    "    while i < len(list1) and j < len(list2):\n",
    "        if list1[i] <= list2[j]:\n",
    "            merged_list.append(list1[i])\n",
    "            i += 1\n",
    "        else:\n",
    "            merged_list.append(list2[j])\n",
    "            j += 1\n",
    "\n",
    "    # Append the remaining elements from list1, if any\n",
    "    while i < len(list1):\n",
    "        merged_list.append(list1[i])\n",
    "        i += 1\n",
    "\n",
    "    # Append the remaining elements from list2, if any\n",
    "    while j < len(list2):\n",
    "        merged_list.append(list2[j])\n",
    "        j += 1\n",
    "\n",
    "    return merged_list\n",
    "\n",
    "# Test the function\n",
    "input_list1 = input(\"Enter elements of the first sorted list separated by spaces: \")\n",
    "list1 = tuple(map(int, input_list1.split()))\n",
    "\n",
    "input_list2 = input(\"Enter elements of the second sorted list separated by spaces: \")\n",
    "list2 = tuple(map(int, input_list2.split()))\n",
    "\n",
    "merged_list = merge_sorted_lists(list1, list2)\n",
    "\n",
    "print(\"Merged sorted list:\")\n",
    "print(merged_list)\n"
   ]
  },
  {
   "cell_type": "code",
   "execution_count": null,
   "id": "ead2137f",
   "metadata": {},
   "outputs": [],
   "source": []
  },
  {
   "cell_type": "code",
   "execution_count": null,
   "id": "488a95d1",
   "metadata": {},
   "outputs": [],
   "source": []
  },
  {
   "cell_type": "markdown",
   "id": "78c0a92e",
   "metadata": {},
   "source": [
    "26. Implement a function to find the mode of a list of numbers."
   ]
  },
  {
   "cell_type": "code",
   "execution_count": 81,
   "id": "ce1b8e3a",
   "metadata": {},
   "outputs": [
    {
     "name": "stdout",
     "output_type": "stream",
     "text": [
      "Enter a list of numbers separated by spaces: 2 3 4 4 4 5 5 5 5 \n",
      "Mode: 5\n"
     ]
    }
   ],
   "source": [
    "from collections import Counter\n",
    "\n",
    "def find_mode(numbers):\n",
    "    counts = Counter(numbers)\n",
    "    mode = max(counts, key=counts.get)\n",
    "    return mode\n",
    "\n",
    " #Test the function\n",
    "input_list = input(\"Enter a list of numbers separated by spaces: \")\n",
    "numbers = tuple(map(int, input_list.split()))\n",
    "\n",
    "mode = find_mode(numbers)\n",
    "\n",
    "print(\"Mode:\", mode)\n",
    "\n"
   ]
  },
  {
   "cell_type": "code",
   "execution_count": null,
   "id": "4918e808",
   "metadata": {},
   "outputs": [],
   "source": []
  },
  {
   "cell_type": "code",
   "execution_count": null,
   "id": "ea59db00",
   "metadata": {},
   "outputs": [],
   "source": []
  },
  {
   "cell_type": "markdown",
   "id": "a539af40",
   "metadata": {},
   "source": [
    "27. Write a program to find the greatest common divisor (GCD) of two numbers."
   ]
  },
  {
   "cell_type": "code",
   "execution_count": 84,
   "id": "5bae27f3",
   "metadata": {},
   "outputs": [
    {
     "name": "stdout",
     "output_type": "stream",
     "text": [
      "Enter the first number: 45\n",
      "Enter the second number: 30\n",
      "Greatest Common Divisor (GCD): 15\n"
     ]
    }
   ],
   "source": [
    "def find_gcd(a, b):\n",
    "    while b != 0:\n",
    "        a, b = b, a % b\n",
    "    return a\n",
    "\n",
    "# Test the function\n",
    "num1 = int(input(\"Enter the first number: \"))\n",
    "num2 = int(input(\"Enter the second number: \"))\n",
    "\n",
    "gcd = find_gcd(num1, num2)\n",
    "\n",
    "print(\"Greatest Common Divisor (GCD):\", gcd)\n"
   ]
  },
  {
   "cell_type": "code",
   "execution_count": null,
   "id": "61b75e91",
   "metadata": {},
   "outputs": [],
   "source": []
  },
  {
   "cell_type": "code",
   "execution_count": null,
   "id": "d7d72809",
   "metadata": {},
   "outputs": [],
   "source": []
  },
  {
   "cell_type": "markdown",
   "id": "7882a186",
   "metadata": {},
   "source": [
    "28. Implement a function to calculate the square root of a given number."
   ]
  },
  {
   "cell_type": "code",
   "execution_count": 93,
   "id": "42af1588",
   "metadata": {},
   "outputs": [
    {
     "name": "stdout",
     "output_type": "stream",
     "text": [
      "enter the number25\n",
      "5.0\n"
     ]
    }
   ],
   "source": [
    "def square_root(num):\n",
    "    sqrt= num**0.5\n",
    "    return sqrt\n",
    "\n",
    "num=int(input(\"enter the number\"))\n",
    "print(square_root(num))"
   ]
  },
  {
   "cell_type": "code",
   "execution_count": null,
   "id": "f2784f1e",
   "metadata": {},
   "outputs": [],
   "source": []
  },
  {
   "cell_type": "code",
   "execution_count": null,
   "id": "5804dddb",
   "metadata": {},
   "outputs": [],
   "source": []
  },
  {
   "cell_type": "markdown",
   "id": "5d9ee28d",
   "metadata": {},
   "source": [
    "29. Write a Python program to check if a given string is a valid palindrome ignoring non-alphanumeric characters."
   ]
  },
  {
   "cell_type": "code",
   "execution_count": 95,
   "id": "bc393fb3",
   "metadata": {},
   "outputs": [
    {
     "name": "stdout",
     "output_type": "stream",
     "text": [
      "Enter a string: level\n",
      "The string is a valid palindrome.\n"
     ]
    }
   ],
   "source": [
    "import re\n",
    "\n",
    "def is_palindrome(s):\n",
    "    # Remove non-alphanumeric characters\n",
    "    alphanumeric_s = re.sub(r'[^a-zA-Z0-9]', '', s)\n",
    "    \n",
    "    # Convert to lowercase for case-insensitive comparison\n",
    "    alphanumeric_s = alphanumeric_s.lower()\n",
    "    \n",
    "    # Check if the alphanumeric string is a palindrome\n",
    "    return alphanumeric_s == alphanumeric_s[::-1]\n",
    "\n",
    "# Test the function\n",
    "input_string = input(\"Enter a string: \")\n",
    "if is_palindrome(input_string):\n",
    "    print(\"The string is a valid palindrome.\")\n",
    "else:\n",
    "    print(\"The string is not a valid palindrome.\")\n"
   ]
  },
  {
   "cell_type": "code",
   "execution_count": null,
   "id": "639f06e4",
   "metadata": {},
   "outputs": [],
   "source": []
  },
  {
   "cell_type": "code",
   "execution_count": null,
   "id": "3744b38e",
   "metadata": {},
   "outputs": [],
   "source": []
  },
  {
   "cell_type": "markdown",
   "id": "0b0931f4",
   "metadata": {},
   "source": [
    "30. Implement a function to find the minimum element in a rotated sorted list."
   ]
  },
  {
   "cell_type": "code",
   "execution_count": 96,
   "id": "ea57182d",
   "metadata": {},
   "outputs": [
    {
     "name": "stdout",
     "output_type": "stream",
     "text": [
      "The minimum element in the rotated sorted list is: 0\n"
     ]
    }
   ],
   "source": [
    "def find_minimum(nums):\n",
    "    # Check if the list is empty\n",
    "    if not nums:\n",
    "        return None\n",
    "\n",
    "    left, right = 0, len(nums) - 1\n",
    "\n",
    "    # If the list is not rotated, the first element is the minimum\n",
    "    if nums[left] < nums[right]:\n",
    "        return nums[left]\n",
    "\n",
    "    # Perform binary search to find the minimum element\n",
    "    while left < right:\n",
    "        mid = left + (right - left) // 2\n",
    "\n",
    "        # Check if the mid element is greater than the rightmost element\n",
    "        if nums[mid] > nums[right]:\n",
    "            left = mid + 1\n",
    "        # Check if the mid element is less than the rightmost element\n",
    "        elif nums[mid] < nums[right]:\n",
    "            right = mid\n",
    "        # If the mid element is equal to the rightmost element, move the right pointer leftward\n",
    "        else:\n",
    "            right -= 1\n",
    "\n",
    "    # At the end of the binary search, left and right will point to the minimum element\n",
    "    return nums[left]\n",
    "\n",
    "# Test the function\n",
    "nums = [4, 5, 6, 7, 0, 1, 2]\n",
    "minimum = find_minimum(nums)\n",
    "print(\"The minimum element in the rotated sorted list is:\", minimum)\n"
   ]
  },
  {
   "cell_type": "code",
   "execution_count": null,
   "id": "cbcbb14c",
   "metadata": {},
   "outputs": [],
   "source": []
  },
  {
   "cell_type": "code",
   "execution_count": null,
   "id": "d50cd252",
   "metadata": {},
   "outputs": [],
   "source": []
  },
  {
   "cell_type": "code",
   "execution_count": null,
   "id": "6e01103c",
   "metadata": {},
   "outputs": [],
   "source": []
  },
  {
   "cell_type": "markdown",
   "id": "1524dbb9",
   "metadata": {},
   "source": [
    "31. Write a program to find the sum of all even numbers in a list."
   ]
  },
  {
   "cell_type": "code",
   "execution_count": 97,
   "id": "f1fc2cd0",
   "metadata": {},
   "outputs": [
    {
     "name": "stdout",
     "output_type": "stream",
     "text": [
      "The sum of even numbers in the list is: 30\n"
     ]
    }
   ],
   "source": [
    "def sum_of_even_numbers(nums):\n",
    "    even_sum = 0\n",
    "    for num in nums:\n",
    "        if num % 2 == 0:\n",
    "            even_sum += num\n",
    "    return even_sum\n",
    "\n",
    "# Test the function\n",
    "numbers = [1, 2, 3, 4, 5, 6, 7, 8, 9, 10]\n",
    "result = sum_of_even_numbers(numbers)\n",
    "print(\"The sum of even numbers in the list is:\", result)\n"
   ]
  },
  {
   "cell_type": "code",
   "execution_count": null,
   "id": "d6d5cc92",
   "metadata": {},
   "outputs": [],
   "source": []
  },
  {
   "cell_type": "code",
   "execution_count": null,
   "id": "71d548aa",
   "metadata": {},
   "outputs": [],
   "source": []
  },
  {
   "cell_type": "markdown",
   "id": "ce98036f",
   "metadata": {},
   "source": [
    "32. Implement function to calculate the power of a number using recursion."
   ]
  },
  {
   "cell_type": "code",
   "execution_count": 100,
   "id": "e30e3f6d",
   "metadata": {},
   "outputs": [
    {
     "name": "stdout",
     "output_type": "stream",
     "text": [
      "8\n"
     ]
    }
   ],
   "source": [
    "def power(base, exponent):\n",
    "    if exponent == 0:\n",
    "        return 1\n",
    "    elif exponent < 0:\n",
    "        return 1 / power(base, -exponent)\n",
    "    else:\n",
    "        return base * power(base, exponent - 1)\n",
    "\n",
    "    \n",
    "print(power(2, 3))"
   ]
  },
  {
   "cell_type": "code",
   "execution_count": null,
   "id": "9a697b58",
   "metadata": {},
   "outputs": [],
   "source": []
  },
  {
   "cell_type": "code",
   "execution_count": null,
   "id": "a506b606",
   "metadata": {},
   "outputs": [],
   "source": []
  },
  {
   "cell_type": "markdown",
   "id": "5ed1b43a",
   "metadata": {},
   "source": [
    "33. Write a Python program to remove duplicates from a list while preserving the order."
   ]
  },
  {
   "cell_type": "code",
   "execution_count": 103,
   "id": "ade00426",
   "metadata": {},
   "outputs": [
    {
     "data": {
      "text/plain": [
       "[1, 2, 3, 4, 5, 6, 7, 8]"
      ]
     },
     "execution_count": 103,
     "metadata": {},
     "output_type": "execute_result"
    }
   ],
   "source": [
    "def remove_duplicates(lst):\n",
    "    unique_list = []\n",
    "    for item in lst:\n",
    "        if item not in unique_list:\n",
    "            unique_list.append(item)\n",
    "    return unique_list\n",
    "lst=[1,1,1,2,3,4,5,6,7,8]\n",
    "remove_duplicates(lst)"
   ]
  },
  {
   "cell_type": "code",
   "execution_count": null,
   "id": "1d5db961",
   "metadata": {},
   "outputs": [],
   "source": []
  },
  {
   "cell_type": "code",
   "execution_count": null,
   "id": "d01e252f",
   "metadata": {},
   "outputs": [],
   "source": []
  },
  {
   "cell_type": "markdown",
   "id": "927e030c",
   "metadata": {},
   "source": [
    "34. Implement among function to find the longest common prefix among a list of strings."
   ]
  },
  {
   "cell_type": "code",
   "execution_count": 106,
   "id": "00743671",
   "metadata": {},
   "outputs": [
    {
     "name": "stdout",
     "output_type": "stream",
     "text": [
      "prefix\n"
     ]
    }
   ],
   "source": [
    "def longest_common_prefix(strings):\n",
    "    if not strings:\n",
    "        return \"\"\n",
    "\n",
    "    prefix = strings[0]\n",
    "    for string in strings[1:]:\n",
    "        while not string.startswith(prefix):\n",
    "            prefix = prefix[:-1]\n",
    "            if not prefix:\n",
    "                return \"\"\n",
    "    return prefix\n",
    "\n",
    "my_strings = [\"prefix123\", \"prefix456\", \"prefix789\"]\n",
    "result = longest_common_prefix(my_strings)\n",
    "print(result)"
   ]
  },
  {
   "cell_type": "code",
   "execution_count": null,
   "id": "40c5b2c1",
   "metadata": {},
   "outputs": [],
   "source": []
  },
  {
   "cell_type": "code",
   "execution_count": null,
   "id": "3ce2e47b",
   "metadata": {},
   "outputs": [],
   "source": []
  },
  {
   "cell_type": "markdown",
   "id": "4ccc815b",
   "metadata": {},
   "source": [
    "35. Write a program to check if a given number is a perfect square."
   ]
  },
  {
   "cell_type": "code",
   "execution_count": 108,
   "id": "7cba9db5",
   "metadata": {},
   "outputs": [
    {
     "name": "stdout",
     "output_type": "stream",
     "text": [
      "True\n"
     ]
    }
   ],
   "source": [
    "def is_perfect_square(number):\n",
    "    if number < 0:\n",
    "        return False\n",
    "\n",
    "    if number == 0:\n",
    "        return True\n",
    "\n",
    "    low = 1\n",
    "    high = number // 2\n",
    "\n",
    "    while low <= high:\n",
    "        mid = (low + high) // 2\n",
    "        square = mid * mid\n",
    "\n",
    "        if square == number:\n",
    "            return True\n",
    "        elif square < number:\n",
    "            low = mid + 1\n",
    "        else:\n",
    "            high = mid - 1\n",
    "\n",
    "    return False\n",
    "number = 25\n",
    "result = is_perfect_square(number)\n",
    "print(result) "
   ]
  },
  {
   "cell_type": "code",
   "execution_count": null,
   "id": "a0377e6e",
   "metadata": {},
   "outputs": [],
   "source": []
  },
  {
   "cell_type": "code",
   "execution_count": null,
   "id": "1a6386cf",
   "metadata": {},
   "outputs": [],
   "source": []
  },
  {
   "cell_type": "markdown",
   "id": "7bc74e54",
   "metadata": {},
   "source": [
    "36. Implement a function to calculate the product of all elements in a list."
   ]
  },
  {
   "cell_type": "code",
   "execution_count": 109,
   "id": "eacc6977",
   "metadata": {},
   "outputs": [
    {
     "name": "stdout",
     "output_type": "stream",
     "text": [
      "120\n"
     ]
    }
   ],
   "source": [
    "def calculate_product(lst):\n",
    "    if not lst:\n",
    "        return 0  # If the list is empty, return 0 or raise an error, depending on your requirements.\n",
    "\n",
    "    product = 1\n",
    "    for num in lst:\n",
    "        product *= num\n",
    "\n",
    "    return product\n",
    "my_list = [1, 2, 3, 4, 5]\n",
    "result = calculate_product(my_list)\n",
    "print(result) "
   ]
  },
  {
   "cell_type": "code",
   "execution_count": null,
   "id": "c7c6fa78",
   "metadata": {},
   "outputs": [],
   "source": []
  },
  {
   "cell_type": "code",
   "execution_count": null,
   "id": "5b26a4cf",
   "metadata": {},
   "outputs": [],
   "source": []
  },
  {
   "cell_type": "markdown",
   "id": "d3ac31e8",
   "metadata": {},
   "source": [
    "37. Write a Python program to reverse the order of words in a sentence while preserving the word order."
   ]
  },
  {
   "cell_type": "code",
   "execution_count": 113,
   "id": "d0f40cbd",
   "metadata": {},
   "outputs": [
    {
     "name": "stdout",
     "output_type": "stream",
     "text": [
      "best the is akshay\n"
     ]
    }
   ],
   "source": [
    "def reverse_words(sentence):\n",
    "    # Split the sentence into individual words\n",
    "    words = sentence.split()\n",
    "\n",
    "    # Reverse the list of words\n",
    "    reversed_words = words[::-1]\n",
    "\n",
    "    # Join the reversed words to form a new sentence\n",
    "    reversed_sentence = \" \".join(reversed_words)\n",
    "\n",
    "    return reversed_sentence\n",
    "sentence=\"akshay is the best\"\n",
    "print(reverse_words(sentence))"
   ]
  },
  {
   "cell_type": "code",
   "execution_count": null,
   "id": "9dd7c140",
   "metadata": {},
   "outputs": [],
   "source": []
  },
  {
   "cell_type": "code",
   "execution_count": null,
   "id": "e00dd787",
   "metadata": {},
   "outputs": [],
   "source": []
  },
  {
   "cell_type": "markdown",
   "id": "4a0cf186",
   "metadata": {},
   "source": [
    "38. Implement a function to find the missing number in a given list of consecutive numbers."
   ]
  },
  {
   "cell_type": "code",
   "execution_count": 114,
   "id": "9cb16a71",
   "metadata": {},
   "outputs": [
    {
     "name": "stdout",
     "output_type": "stream",
     "text": [
      "4\n"
     ]
    }
   ],
   "source": [
    "def find_missing_number(numbers):\n",
    "    n = len(numbers) + 1\n",
    "    total_sum = (n * (n + 1)) // 2\n",
    "    actual_sum = sum(numbers)\n",
    "    missing_number = total_sum - actual_sum\n",
    "    return missing_number\n",
    "my_list = [1, 2, 3, 5, 6, 7, 8, 9]\n",
    "result = find_missing_number(my_list)\n",
    "print(result) "
   ]
  },
  {
   "cell_type": "code",
   "execution_count": null,
   "id": "11a8fd72",
   "metadata": {},
   "outputs": [],
   "source": []
  },
  {
   "cell_type": "code",
   "execution_count": null,
   "id": "aaefaede",
   "metadata": {},
   "outputs": [],
   "source": []
  },
  {
   "cell_type": "markdown",
   "id": "f4e265d4",
   "metadata": {},
   "source": [
    "39. Write a program to find the sum of digits of a given number."
   ]
  },
  {
   "cell_type": "code",
   "execution_count": 118,
   "id": "fee011da",
   "metadata": {},
   "outputs": [],
   "source": [
    "def sum_of_digits(number):\n",
    "    # Convert the number to a string to iterate over its digits\n",
    "    num_str = str(number)\n",
    "    \n",
    "    # Initialize the sum to 0\n",
    "    digit_sum = 0\n",
    "    \n",
    "    # Iterate over each digit in the string\n",
    "    for digit in num_str:\n",
    "        # Convert the digit back to an integer and add it to the sum\n",
    "        digit_sum += int(digit)\n",
    "    \n",
    "    return digit_sum\n"
   ]
  },
  {
   "cell_type": "code",
   "execution_count": 119,
   "id": "ac6e1b7d",
   "metadata": {},
   "outputs": [
    {
     "name": "stdout",
     "output_type": "stream",
     "text": [
      "enter the number12345\n",
      "15\n"
     ]
    }
   ],
   "source": [
    "number=int(input(\"enter the number\"))\n",
    "print(sum_of_digits(number))"
   ]
  },
  {
   "cell_type": "code",
   "execution_count": null,
   "id": "6f7d3d85",
   "metadata": {},
   "outputs": [],
   "source": []
  },
  {
   "cell_type": "markdown",
   "id": "74e6cc83",
   "metadata": {},
   "source": [
    "40. Implement a function to check if a given string is a valid palindrome considering case sensitivity."
   ]
  },
  {
   "cell_type": "code",
   "execution_count": 120,
   "id": "197f4412",
   "metadata": {},
   "outputs": [
    {
     "name": "stdout",
     "output_type": "stream",
     "text": [
      "True\n"
     ]
    }
   ],
   "source": [
    "def is_palindrome(string):\n",
    "    # Remove any whitespace and convert the string to lowercase\n",
    "    cleaned_string = string.replace(\" \", \"\").lower()\n",
    "    \n",
    "    # Check if the cleaned string is equal to its reverse\n",
    "    return cleaned_string == cleaned_string[::-1]\n",
    "my_string = \"A man a plan a canal Panama\"\n",
    "result = is_palindrome(my_string)\n",
    "print(result) \n"
   ]
  },
  {
   "cell_type": "code",
   "execution_count": null,
   "id": "6bc107d8",
   "metadata": {},
   "outputs": [],
   "source": []
  },
  {
   "cell_type": "code",
   "execution_count": null,
   "id": "e0fae684",
   "metadata": {},
   "outputs": [],
   "source": []
  },
  {
   "cell_type": "markdown",
   "id": "bb03d024",
   "metadata": {},
   "source": [
    "41. Write a Python program to find the smallest missing positive integer in a list."
   ]
  },
  {
   "cell_type": "code",
   "execution_count": 125,
   "id": "415cec31",
   "metadata": {},
   "outputs": [
    {
     "name": "stdout",
     "output_type": "stream",
     "text": [
      "3\n"
     ]
    }
   ],
   "source": [
    "def find_smallest_missing_positive_integer(lst):\n",
    "    # Remove negative numbers and zeros from the list\n",
    "    lst = [num for num in lst if num > 0]\n",
    "\n",
    "    # Check if the list is empty\n",
    "    if not lst:\n",
    "        return 1\n",
    "\n",
    "    # Convert the list to a set for faster lookup\n",
    "    num_set = set(lst)\n",
    "\n",
    "    # Find the smallest missing positive integer\n",
    "    n = 1\n",
    "    while n in num_set:\n",
    "        n += 1\n",
    "\n",
    "    return n\n",
    "lst=[1,2,4,6,8,9,20]\n",
    "print(find_smallest_missing_positive_integer(lst))"
   ]
  },
  {
   "cell_type": "code",
   "execution_count": null,
   "id": "2060b324",
   "metadata": {},
   "outputs": [],
   "source": []
  },
  {
   "cell_type": "code",
   "execution_count": null,
   "id": "a011c333",
   "metadata": {},
   "outputs": [],
   "source": []
  },
  {
   "cell_type": "markdown",
   "id": "d2de2385",
   "metadata": {},
   "source": [
    "42. Implement a function to find the longest palindrome substring in a given string."
   ]
  },
  {
   "cell_type": "code",
   "execution_count": null,
   "id": "3a0f7134",
   "metadata": {},
   "outputs": [],
   "source": []
  },
  {
   "cell_type": "code",
   "execution_count": null,
   "id": "5284a103",
   "metadata": {},
   "outputs": [],
   "source": []
  },
  {
   "cell_type": "markdown",
   "id": "185598a8",
   "metadata": {},
   "source": [
    "43. Write a program to find the number of occurrences of a given element in a list."
   ]
  },
  {
   "cell_type": "code",
   "execution_count": 128,
   "id": "15c77284",
   "metadata": {},
   "outputs": [],
   "source": []
  },
  {
   "cell_type": "code",
   "execution_count": 129,
   "id": "60245e9d",
   "metadata": {},
   "outputs": [
    {
     "name": "stdout",
     "output_type": "stream",
     "text": [
      "True\n"
     ]
    }
   ],
   "source": [
    "\n"
   ]
  },
  {
   "cell_type": "code",
   "execution_count": null,
   "id": "b6ef49d7",
   "metadata": {},
   "outputs": [],
   "source": []
  },
  {
   "cell_type": "markdown",
   "id": "3c2f35b3",
   "metadata": {},
   "source": [
    "44. Implement a function to check if a given number is a perfect number."
   ]
  },
  {
   "cell_type": "code",
   "execution_count": 130,
   "id": "55030ead",
   "metadata": {},
   "outputs": [],
   "source": [
    "def is_perfect_number(number):\n",
    "    if number <= 0:\n",
    "        return False\n",
    "\n",
    "    divisors_sum = sum([divisor for divisor in range(1, number) if number % divisor == 0])\n",
    "\n",
    "    return divisors_sum == number\n"
   ]
  },
  {
   "cell_type": "code",
   "execution_count": 131,
   "id": "16ee4af1",
   "metadata": {},
   "outputs": [
    {
     "name": "stdout",
     "output_type": "stream",
     "text": [
      "True\n"
     ]
    }
   ],
   "source": [
    "number = 28\n",
    "result = is_perfect_number(number)\n",
    "print(result)"
   ]
  },
  {
   "cell_type": "code",
   "execution_count": null,
   "id": "f2385ca7",
   "metadata": {},
   "outputs": [],
   "source": []
  },
  {
   "cell_type": "markdown",
   "id": "9c579732",
   "metadata": {},
   "source": [
    "45. Write a Python program to remove all duplicates from a string."
   ]
  },
  {
   "cell_type": "code",
   "execution_count": 132,
   "id": "4bcef3b6",
   "metadata": {},
   "outputs": [
    {
     "name": "stdout",
     "output_type": "stream",
     "text": [
      "Helo, Wrd!\n"
     ]
    }
   ],
   "source": [
    "def remove_duplicates(string):\n",
    "    # Create an empty set to store unique characters\n",
    "    unique_chars = set()\n",
    "\n",
    "    # Create a new string without duplicate characters\n",
    "    result = \"\"\n",
    "    for char in string:\n",
    "        if char not in unique_chars:\n",
    "            result += char\n",
    "            unique_chars.add(char)\n",
    "\n",
    "    return result\n",
    "\n",
    "my_string = \"Hello, World!\"\n",
    "result = remove_duplicates(my_string)\n",
    "print(result)  # Output: \"Helo, Wrd!\"\n"
   ]
  },
  {
   "cell_type": "code",
   "execution_count": null,
   "id": "5e49b7b2",
   "metadata": {},
   "outputs": [],
   "source": []
  },
  {
   "cell_type": "code",
   "execution_count": null,
   "id": "effb1169",
   "metadata": {},
   "outputs": [],
   "source": []
  },
  {
   "cell_type": "markdown",
   "id": "73618e08",
   "metadata": {},
   "source": [
    "46. Implement a function to find the first missing positive"
   ]
  },
  {
   "cell_type": "code",
   "execution_count": 133,
   "id": "e2583b60",
   "metadata": {},
   "outputs": [
    {
     "name": "stdout",
     "output_type": "stream",
     "text": [
      "9\n"
     ]
    }
   ],
   "source": [
    "def find_first_missing_positive(nums):\n",
    "    n = len(nums)\n",
    "\n",
    "    # Step 1: Replace non-positive and out-of-range values with 0\n",
    "    for i in range(n):\n",
    "        if nums[i] <= 0 or nums[i] > n:\n",
    "            nums[i] = 0\n",
    "\n",
    "    # Step 2: Use the array as a hash table to mark presence of positive integers\n",
    "    for i in range(n):\n",
    "        num = abs(nums[i])\n",
    "        if num != 0 and num <= n:\n",
    "            nums[num - 1] = -abs(nums[num - 1])\n",
    "\n",
    "    # Step 3: Find the first missing positive integer\n",
    "    for i in range(n):\n",
    "        if nums[i] >= 0:\n",
    "            return i + 1\n",
    "\n",
    "    # Step 4: If all positive integers are present, return the next one\n",
    "    return n + 1\n",
    "nums=[1,2,3,4,5,6,7,8]\n",
    "print(find_first_missing_positive(nums))"
   ]
  },
  {
   "cell_type": "code",
   "execution_count": null,
   "id": "84540f29",
   "metadata": {},
   "outputs": [],
   "source": []
  },
  {
   "cell_type": "code",
   "execution_count": null,
   "id": "546b62a1",
   "metadata": {},
   "outputs": [],
   "source": []
  }
 ],
 "metadata": {
  "kernelspec": {
   "display_name": "Python 3 (ipykernel)",
   "language": "python",
   "name": "python3"
  },
  "language_info": {
   "codemirror_mode": {
    "name": "ipython",
    "version": 3
   },
   "file_extension": ".py",
   "mimetype": "text/x-python",
   "name": "python",
   "nbconvert_exporter": "python",
   "pygments_lexer": "ipython3",
   "version": "3.9.13"
  }
 },
 "nbformat": 4,
 "nbformat_minor": 5
}
